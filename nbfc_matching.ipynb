{
  "nbformat": 4,
  "nbformat_minor": 0,
  "metadata": {
    "colab": {
      "provenance": [],
      "gpuType": "T4"
    },
    "kernelspec": {
      "name": "python3",
      "display_name": "Python 3"
    },
    "language_info": {
      "name": "python"
    },
    "accelerator": "GPU"
  },
  "cells": [
    {
      "cell_type": "code",
      "source": [
        "pip install fuzzywuzzy"
      ],
      "metadata": {
        "colab": {
          "base_uri": "https://localhost:8080/"
        },
        "id": "psRquNpgu3eZ",
        "outputId": "bd114fcb-d3d5-4ced-f5e7-2553a8d67d60"
      },
      "execution_count": null,
      "outputs": [
        {
          "output_type": "stream",
          "name": "stdout",
          "text": [
            "Collecting fuzzywuzzy\n",
            "  Downloading fuzzywuzzy-0.18.0-py2.py3-none-any.whl (18 kB)\n",
            "Installing collected packages: fuzzywuzzy\n",
            "Successfully installed fuzzywuzzy-0.18.0\n"
          ]
        }
      ]
    },
    {
      "cell_type": "code",
      "source": [
        "from google.colab import drive\n",
        "drive.mount('/content/drive')"
      ],
      "metadata": {
        "colab": {
          "base_uri": "https://localhost:8080/"
        },
        "id": "m0lafScZu0KF",
        "outputId": "c8db561b-9580-4f9a-a681-a26f33ef1216"
      },
      "execution_count": null,
      "outputs": [
        {
          "output_type": "stream",
          "name": "stdout",
          "text": [
            "Drive already mounted at /content/drive; to attempt to forcibly remount, call drive.mount(\"/content/drive\", force_remount=True).\n"
          ]
        }
      ]
    },
    {
      "cell_type": "code",
      "source": [
        "import pandas as pd\n",
        "import json\n",
        "from fuzzywuzzy import process\n",
        "\n",
        "# Load the names from the Excel file\n",
        "excel_file_path = '/content/drive/MyDrive/Narrations/nbfc names.xlsx'\n",
        "df_names = pd.read_excel(excel_file_path, engine='openpyxl')\n",
        "\n",
        "# Load transactions from the JSON file\n",
        "json_file_path = '/content/drive/MyDrive/Narrations/all_narrations (2).json'\n",
        "with open(json_file_path, 'r') as f:\n",
        "    transactions_data = json.load(f)\n",
        "\n",
        "# Take only the first 10000000 transactions\n",
        "transactions_data = transactions_data[:10000000]\n",
        "\n",
        "stopwords = ['private', 'limited', 'pvt', 'ltd', 'ltd.',]\n",
        "\n",
        "# Remove stopwords from names\n",
        "def remove_stopwords(name):\n",
        "    for sw in stopwords:\n",
        "        name = str(name).lower()  # Ensure name is a string\n",
        "        name = name.replace(sw, '').strip()\n",
        "    return name\n",
        "\n",
        "df_names['Name'] = df_names['Name'].apply(remove_stopwords)\n",
        "\n",
        "# Create an empty list to store results\n",
        "results = []\n",
        "\n",
        "# Function to find transactions containing similar names\n",
        "def find_transactions(name):\n",
        "    transactions_found = []  # Using a set to store unique transactions  #complexity increasing\n",
        "    for transaction in transactions_data:\n",
        "        match = process.extractOne(name.upper(), transaction.upper())\n",
        "        if match is not None:\n",
        "            ratio = match[1]  # Get the similarity ratio\n",
        "            if ratio >= 30:  # Threshold of 30% match\n",
        "                transactions_found.append(transaction)\n",
        "        return transactions_found\n",
        "\n",
        "# Search for each name in transactions and store results\n",
        "for name in df_names['Name'].head(5):  # Taking the first 100 names\n",
        "    transactions_found = find_transactions(name)\n",
        "    for transaction in transactions_found:\n",
        "        transactions_list = transaction.split(',')  # Split transactions by \",\"\n",
        "        for t in transactions_list:\n",
        "            results.append({'Name': name, 'Narration': name, 'Transaction': t.strip()})\n",
        "\n",
        "# Create DataFrame from results\n",
        "result_df = pd.DataFrame(results)\n",
        "\n",
        "# Write unique results back to the Excel file\n",
        "excel_file_path = '/content/drive/MyDrive/Narrations/nbfc_names_output.xlsx'\n",
        "excel_engine = 'openpyxl'\n",
        "\n",
        "try:\n",
        "    with pd.ExcelWriter(excel_file_path, engine=excel_engine) as writer:\n",
        "        result_df.drop_duplicates().to_excel(writer, index=False)  # Drop duplicates before writing to Excel\n",
        "    print(\"Data has been successfully written back to the Excel file.\")\n",
        "except Exception as e:\n",
        "    print(\"An error occurred while writing to the Excel file:\", e)\n"
      ],
      "metadata": {
        "id": "LrGOyAp070mg",
        "colab": {
          "base_uri": "https://localhost:8080/"
        },
        "outputId": "ddce96c7-cf9e-4e7f-a0a1-5e3860363844"
      },
      "execution_count": null,
      "outputs": [
        {
          "output_type": "stream",
          "name": "stdout",
          "text": [
            "Data has been successfully written back to the Excel file.\n"
          ]
        }
      ]
    },
    {
      "cell_type": "code",
      "source": [
        "import pandas as pd\n",
        "import json\n",
        "from fuzzywuzzy import process\n",
        "\n",
        "# Load the names from the Excel file\n",
        "excel_file_path = '/content/drive/MyDrive/Narrations/nbfc names.xlsx'\n",
        "df_names = pd.read_excel(excel_file_path, engine='openpyxl')\n",
        "\n",
        "# Load transactions from the JSON file\n",
        "json_file_path = '/content/drive/MyDrive/Narrations/all_narrations (2).json'\n",
        "with open(json_file_path, 'r') as f:\n",
        "    transactions_data = json.load(f)\n",
        "\n",
        "# Take only the first 10000000 transactions\n",
        "transactions_data = transactions_data[:10000000]\n",
        "\n",
        "# Define stopwords to remove from names\n",
        "stopwords = ['private', 'limited', 'pvt', 'ltd', 'ltd.',]\n",
        "\n",
        "# Remove stopwords from names\n",
        "def remove_stopwords(name):\n",
        "    for sw in stopwords:\n",
        "        name = str(name).lower()  # Ensure name is a string\n",
        "        name = name.replace(sw, '').strip()\n",
        "    return name\n",
        "\n",
        "df_names['Name'] = df_names['Name'].apply(remove_stopwords)\n",
        "df_names['Name']"
      ],
      "metadata": {
        "colab": {
          "base_uri": "https://localhost:8080/"
        },
        "id": "rWeKWhaDwSOG",
        "outputId": "2d1423aa-5272-4c70-cd62-3b44cbb0cd6b"
      },
      "execution_count": null,
      "outputs": [
        {
          "output_type": "execute_result",
          "data": {
            "text/plain": [
              "0                                         bajaj finance .\n",
              "1       shriram finance  [formerly: shriram transport ...\n",
              "2                   tata sons   (formerly tata sons ) cic\n",
              "3          cholamandalam investment and finance company *\n",
              "4                                             l&t finance\n",
              "                              ...                        \n",
              "9351                                           ch finance\n",
              "9352                                   blackbuck finserve\n",
              "9353                                        edgro finance\n",
              "9354                sanghamithra rural financial services\n",
              "9355                    tally account aggregator services\n",
              "Name: Name, Length: 9356, dtype: object"
            ]
          },
          "metadata": {},
          "execution_count": 6
        }
      ]
    },
    {
      "cell_type": "code",
      "source": [],
      "metadata": {
        "id": "zQCtuaNevvUm"
      },
      "execution_count": null,
      "outputs": []
    }
  ]
}